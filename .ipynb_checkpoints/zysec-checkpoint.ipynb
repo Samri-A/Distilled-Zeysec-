{
 "cells": [
  {
   "cell_type": "code",
   "execution_count": null,
   "id": "1b2981a4-f50c-4a69-9507-c0011cd5ddc2",
   "metadata": {},
   "outputs": [],
   "source": [
    "from transformers import AutoTokenizer, AutoModelForCausalLM\n",
    "\n",
    "# Load Teacher (Large Model)\n",
    "teacher_model_name = \"ZySec-AI/SecurityLLM\"\n",
    "tokenizer = AutoTokenizer.from_pretrained(teacher_model_name)\n",
    "teacher_model = AutoModelForCausalLM.from_pretrained(teacher_model_name)\n",
    "\n",
    "# Load Student (Smaller Model, e.g., DistilGPT2)\n",
    "student_model_name = \"distilgpt2\"\n",
    "student_model = AutoModelForCausalLM.from_pretrained(student_model_name)\n"
   ]
  },
  {
   "cell_type": "code",
   "execution_count": null,
   "id": "73377b5d-09ee-400b-a27f-81f1648239bb",
   "metadata": {},
   "outputs": [],
   "source": [
    "import torch\n",
    "import torch.nn.functional as F\n",
    "\n",
    "def distillation_loss(student_outputs, teacher_outputs, T=2.0, alpha=0.5):\n",
    "    # Soft Target Loss (KL Divergence)\n",
    "    soft_loss = F.kl_div(F.log_softmax(student_outputs.logits / T, dim=-1),\n",
    "                         F.softmax(teacher_outputs.logits / T, dim=-1),\n",
    "                         reduction='batchmean')\n",
    "    \n",
    "    # Hard Target Loss (Cross-Entropy)\n",
    "    hard_loss = F.cross_entropy(student_outputs.logits.view(-1, student_outputs.logits.size(-1)),\n",
    "                                teacher_outputs.input_ids.view(-1))\n",
    "    \n",
    "    return alpha * soft_loss + (1 - alpha) * hard_loss\n"
   ]
  },
  {
   "cell_type": "code",
   "execution_count": null,
   "id": "e60f3c15-985b-42b7-8875-bddb61f420f9",
   "metadata": {},
   "outputs": [],
   "source": [
    "from torch.utils.data import DataLoader\n",
    "from datasets import load_dataset\n",
    "\n",
    "# Load your dataset (using a small dataset for illustration)\n",
    "dataset = load_dataset(\"wikitext\", split=\"train[:1%]\")  # Example dataset, use your own data\n",
    "\n",
    "# Tokenize the data\n",
    "def tokenize_function(examples):\n",
    "    return tokenizer(examples[\"text\"], return_tensors=\"pt\", truncation=True, padding=\"max_length\", max_length=512)\n",
    "\n",
    "tokenized_datasets = dataset.map(tokenize_function, batched=True)\n",
    "train_dataloader = DataLoader(tokenized_datasets, batch_size=8, shuffle=True)\n",
    "\n",
    "# Optimizer for Student Model\n",
    "optimizer = torch.optim.AdamW(student_model.parameters(), lr=5e-5)\n",
    "\n",
    "# Training Loop\n",
    "device = torch.device(\"cuda\" if torch.cuda.is_available() else \"cpu\")\n",
    "student_model.to(device)\n",
    "teacher_model.to(device)\n",
    "\n",
    "for epoch in range(3):  # Number of epochs\n",
    "    student_model.train()\n",
    "    teacher_model.eval()  # Teacher model is not updated, only used for generating soft targets\n",
    "    \n",
    "    total_loss = 0\n",
    "    for batch in train_dataloader:\n",
    "        inputs = {key: value.to(device) for key, value in batch.items()}\n",
    "        \n",
    "        # Forward pass through Teacher Model (get logits)\n",
    "        with torch.no_grad():\n",
    "            teacher_outputs = teacher_model(**inputs)\n",
    "        \n",
    "        # Forward pass through Student Model\n",
    "        student_outputs = student_model(**inputs)\n",
    "        \n",
    "        # Compute the distillation loss\n",
    "        loss = distillation_loss(student_outputs, teacher_outputs, T=2.0, alpha=0.5)\n",
    "        \n",
    "        # Backpropagation\n",
    "        optimizer.zero_grad()\n",
    "        loss.backward()\n",
    "        optimizer.step()\n",
    "        \n",
    "        total_loss += loss.item()\n",
    "    \n",
    "    print(f\"Epoch {epoch + 1}, Loss: {total_loss / len(train_dataloader)}\")\n"
   ]
  },
  {
   "cell_type": "code",
   "execution_count": null,
   "id": "f7927d20-5442-4710-8a8a-58df98f7a2bb",
   "metadata": {},
   "outputs": [],
   "source": [
    "# Save the trained student model\n",
    "student_model.save_pretrained(\"distilled_SecurityLLM\")\n",
    "tokenizer.save_pretrained(\"distilled_SecurityLLM\")\n"
   ]
  }
 ],
 "metadata": {
  "kernelspec": {
   "display_name": "Python 3 (ipykernel)",
   "language": "python",
   "name": "python3"
  },
  "language_info": {
   "codemirror_mode": {
    "name": "ipython",
    "version": 3
   },
   "file_extension": ".py",
   "mimetype": "text/x-python",
   "name": "python",
   "nbconvert_exporter": "python",
   "pygments_lexer": "ipython3",
   "version": "3.12.1"
  }
 },
 "nbformat": 4,
 "nbformat_minor": 5
}
